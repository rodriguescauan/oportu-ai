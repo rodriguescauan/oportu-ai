{
  "nbformat": 4,
  "nbformat_minor": 0,
  "metadata": {
    "colab": {
      "provenance": []
    },
    "kernelspec": {
      "name": "python3",
      "display_name": "Python 3"
    },
    "language_info": {
      "name": "python"
    }
  },
  "cells": [
    {
      "cell_type": "code",
      "source": [
        "# Instalação e setup\n",
        "%pip -q install google-genai google-adk\n",
        "\n",
        "# Imports\n",
        "import os, textwrap, warnings\n",
        "from google.colab import userdata\n",
        "from datetime import date\n",
        "from IPython.display import display, Markdown\n",
        "from google import genai\n",
        "from google.genai import types\n",
        "from google.adk.agents import Agent\n",
        "from google.adk.runners import Runner\n",
        "from google.adk.sessions import InMemorySessionService\n",
        "from google.adk.tools import google_search\n",
        "\n",
        "warnings.filterwarnings(\"ignore\")\n",
        "os.environ[\"GOOGLE_API_KEY\"] = userdata.get(\"GOOGLE_API_KEY\")\n",
        "\n",
        "client = genai.Client()\n",
        "MODEL_ID = \"gemini-2.0-flash\"\n",
        "\n",
        "# Funções auxiliares\n",
        "def call_agent(agent: Agent, message_text: str) -> str:\n",
        "    session_service = InMemorySessionService()\n",
        "    session = session_service.create_session(app_name=agent.name, user_id=\"user1\", session_id=\"session1\")\n",
        "    runner = Runner(agent=agent, app_name=agent.name, session_service=session_service)\n",
        "    content = types.Content(role=\"user\", parts=[types.Part(text=message_text)])\n",
        "    final_response = \"\"\n",
        "    for event in runner.run(user_id=\"user1\", session_id=\"session1\", new_message=content):\n",
        "        if event.is_final_response():\n",
        "            for part in event.content.parts:\n",
        "                if part.text is not None:\n",
        "                    final_response += part.text + \"\\n\"\n",
        "    return final_response\n",
        "\n",
        "def to_markdown(text):\n",
        "    text = text.replace('•', '  *')\n",
        "    return Markdown(textwrap.indent(text, '> ', predicate=lambda _: True))\n",
        "\n",
        "# Agente 1 – Buscador (filtra eventos futuros)\n",
        "def agente_buscador_oportunidades(perfil_usuario, data_de_hoje):\n",
        "    buscador = Agent(\n",
        "        name=\"agente_buscador_oportunidades\",\n",
        "        model=MODEL_ID,\n",
        "        instruction=\"\"\"\n",
        "        Você é um buscador especializado em encontrar oportunidades de crescimento pessoal e profissional na internet. Sua resposta deverá ser amigável com utilização moderada de emojis.\n",
        "\n",
        "        Utilize apenas uma frase em sua introdução. Evite excesso de texto.\n",
        "\n",
        "        Com base no perfil do usuário e na data atual, use a ferramenta google_search para buscar **eventos, cursos, bolsas, mentorias ou vagas cujas datas de realização ou inscrição sejam HOJE ou no FUTURO**.\n",
        "\n",
        "        Ignore completamente eventos já encerrados ou com inscrições vencidas. Priorize conteúdos com:\n",
        "        - Data de realização futura\n",
        "        - Prazos de inscrição ainda abertos\n",
        "        - Indicação clara de 'Inscrições abertas', 'Participe agora', 'Vem aí', 'Em breve', 'Inscreva-se até XX/XX'\n",
        "\n",
        "        Busque no máximo 5 oportunidades que sejam REAIS, ATUAIS e RELEVANTES para o perfil informado.\n",
        "        \"\"\",\n",
        "        description=\"Agente que busca oportunidades atuais e futuras\",\n",
        "        tools=[google_search]\n",
        "    )\n",
        "    entrada = f\"Perfil do usuário: {perfil_usuario}\\nHoje é: {data_de_hoje}. Busque apenas oportunidades com prazos abertos ou datas futuras.\"\n",
        "    return call_agent(buscador, entrada)\n",
        "\n",
        "# Agente 2 – Classificador (tabela organizada)\n",
        "def agente_classificador(oportunidades_encontradas):\n",
        "    classificador = Agent(\n",
        "        name=\"agente_classificador\",\n",
        "        model=MODEL_ID,\n",
        "        instruction=\"\"\"\n",
        "        Você é um analista de oportunidades.\n",
        "\n",
        "        Classifique cada item da lista abaixo e organize em uma tabela com as colunas:\n",
        "        Título | Tipo (curso, evento, vaga, etc.) | Área (ex: tecnologia, design, etc.) | Urgência (baixo, médio, alto) | Link\n",
        "\n",
        "        Urgência:\n",
        "        - Alto: prazos nos próximos 5 dias\n",
        "        - Médio: prazos entre 6 e 15 dias\n",
        "        - Baixo: mais de 15 dias ou sem prazo definido\n",
        "\n",
        "        Deixe a apresentação clara, com texto direto e sem rodeios.\n",
        "        \"\"\",\n",
        "        description=\"Agente que organiza oportunidades em tabela\"\n",
        "    )\n",
        "    return call_agent(classificador, f\"Oportunidades encontradas:\\n{oportunidades_encontradas}\")\n",
        "\n",
        "# Agente 3 – Planejador (dividido por semana)\n",
        "def agente_planejador(perfil_usuario, oportunidades_classificadas):\n",
        "    planejador = Agent(\n",
        "        name=\"agente_planejador\",\n",
        "        model=MODEL_ID,\n",
        "        instruction=\"\"\"\n",
        "        Você é um planejador estratégico.\n",
        "\n",
        "        Com base no perfil do usuário e nas oportunidades listadas, crie um plano de ação para os próximos 30 dias, dividido por semanas.\n",
        "\n",
        "        Para cada semana, indique:\n",
        "        - Quais oportunidades focar\n",
        "        - Quais ações devem ser feitas (ex: enviar inscrição, assistir evento, revisar portfólio)\n",
        "        - Uma dica breve e motivadora\n",
        "\n",
        "        Use listas organizadas por semana, com tom direto e encorajador.\n",
        "        \"\"\",\n",
        "        description=\"Agente que sugere plano de ação semanal\"\n",
        "    )\n",
        "    entrada = f\"Perfil do usuário: {perfil_usuario}\\nOportunidades classificadas:\\n{oportunidades_classificadas}\"\n",
        "    return call_agent(planejador, entrada)\n",
        "\n",
        "# Agente 4 – Coach (minimalista e elegante)\n",
        "def agente_coach(perfil_usuario, plano_acao):\n",
        "    coach = Agent(\n",
        "        name=\"agente_coach\",\n",
        "        model=MODEL_ID,\n",
        "        instruction=\"\"\"\n",
        "        Você é um coach virtual com tom elegante, direto e inspirador.\n",
        "\n",
        "        Apresente o plano de ação do usuário com leveza, encorajamento e clareza.\n",
        "        Use emojis com moderação e apenas quando fizerem sentido. Evite excesso de texto.\n",
        "\n",
        "        O objetivo é deixar o usuário animado e confiante para começar. Seja breve e impactante.\n",
        "        \"\"\",\n",
        "        description=\"Coach motivacional com estilo minimalista\"\n",
        "    )\n",
        "    entrada = f\"Perfil do usuário: {perfil_usuario}\\nPlano de ação:\\n{plano_acao}\"\n",
        "    return call_agent(coach, entrada)\n",
        "\n",
        "# Execução do sistema completo\n",
        "print(\"🚀 Bem-vindo ao OPORTU.AI – seu curador de oportunidades de crescimento!\")\n",
        "perfil_usuario = input(\"🧑‍🎓 Descreva seu perfil e interesses (ex: 'sou estudante de design e busco estágio e eventos'): \")\n",
        "data_de_hoje = date.today().strftime(\"%d/%m/%Y\")\n",
        "\n",
        "if not perfil_usuario:\n",
        "    print(\"❗ Você precisa descrever seu perfil.\")\n",
        "else:\n",
        "    print(\"\\n🔎 Buscando oportunidades...\")\n",
        "    oportunidades = agente_buscador_oportunidades(perfil_usuario, data_de_hoje)\n",
        "    display(Markdown(\"### 🎯 Oportunidades encontradas:\"))\n",
        "    display(to_markdown(oportunidades))\n",
        "\n",
        "    print(\"\\n📂 Classificando oportunidades...\")\n",
        "    oportunidades_classificadas = agente_classificador(oportunidades)\n",
        "    display(Markdown(\"### 🗂️ Oportunidades classificadas:\"))\n",
        "    display(to_markdown(oportunidades_classificadas))\n",
        "\n",
        "    print(\"\\n🗓️ Criando plano de ação...\")\n",
        "    plano = agente_planejador(perfil_usuario, oportunidades_classificadas)\n",
        "    display(Markdown(\"### 🛠️ Plano de ação sugerido:\"))\n",
        "    display(to_markdown(plano))\n",
        "\n",
        "    print(\"\\n💬 Preparando mensagem motivacional...\")\n",
        "    mensagem_final = agente_coach(perfil_usuario, plano)\n",
        "    display(Markdown(\"### 💡 Coach Virtual diz:\"))\n",
        "    display(to_markdown(mensagem_final))\n"
      ],
      "metadata": {
        "colab": {
          "base_uri": "https://localhost:8080/",
          "height": 1000
        },
        "id": "M3fAnirBpFVq",
        "outputId": "1b00c452-426b-45e5-fc47-c0be46298cda"
      },
      "execution_count": 21,
      "outputs": [
        {
          "output_type": "stream",
          "name": "stdout",
          "text": [
            "🚀 Bem-vindo ao OPORTU.AI – seu curador de oportunidades de crescimento!\n",
            "🧑‍🎓 Descreva seu perfil e interesses (ex: 'sou estudante de design e busco estágio e eventos'): Procuro oportunidades de UX Design\n",
            "\n",
            "🔎 Buscando oportunidades...\n"
          ]
        },
        {
          "output_type": "display_data",
          "data": {
            "text/plain": [
              "<IPython.core.display.Markdown object>"
            ],
            "text/markdown": "### 🎯 Oportunidades encontradas:"
          },
          "metadata": {}
        },
        {
          "output_type": "display_data",
          "data": {
            "text/plain": [
              "<IPython.core.display.Markdown object>"
            ],
            "text/markdown": "> Olá! 👋 Posso te ajudar a encontrar oportunidades de UX Design que estão com inscrições abertas ou que acontecerão em breve. 😊\n> \n> \n> Encontrei algumas oportunidades que podem te interessar! 😉\n> \n> 1.  **Conferências de UX Design em 2025:** A Interaction Design Foundation (IxDF) está organizando diversas conferências ao longo de 2025, tanto online quanto presenciais, com foco em temas como pesquisa em UX, design de interação e usabilidade. Fique de olho nas datas e locais para não perder nenhuma! 🗓️\n> \n> 2.  **Vagas UX Design na VagasUX:** A VagasUX está divulgando diversas oportunidades remotas e presenciais para UX Designers, incluindo vagas para UI Designers, Product Designers e UX Writers. Há vagas para todos os níveis de experiência, desde estágio até sênior. 💼\n> \n> 3.  **Curso de UX Design e Agilidade na PUC Minas:** A PUC Minas está com inscrições abertas até 30 de abril de 2025 para o curso de pós-graduação em UX Design e Agilidade. O curso aborda temas como inteligência artificial, projetos e tecnologias de UX, design de conteúdo e prototipação. 📚\n> \n> 4.  **Mentoria Avançada em UX Design na Mergo:** A Mergo está com pré-inscrições abertas para a Sala VIP UX, um programa de desenvolvimento contínuo para profissionais de UX em nível pleno e sênior. O programa oferece mentorias individuais, encontros coletivos e acesso a conteúdos exclusivos. As inscrições terminam em 30 de maio de 2025 e as mentorias começam em 23 de junho de 2025. 🧑‍🏫\n> \n> 5.  **Programa Desenvolve:** Estão abertas 20 mil vagas para curso 100% online e gratuito, com foco em introdução à tecnologia, inteligência artificial e análise de dados. As inscrições vão até 14 de abril! É só acessar o site Desenvolve.\n> \n"
          },
          "metadata": {}
        },
        {
          "output_type": "stream",
          "name": "stdout",
          "text": [
            "\n",
            "📂 Classificando oportunidades...\n"
          ]
        },
        {
          "output_type": "display_data",
          "data": {
            "text/plain": [
              "<IPython.core.display.Markdown object>"
            ],
            "text/markdown": "### 🗂️ Oportunidades classificadas:"
          },
          "metadata": {}
        },
        {
          "output_type": "display_data",
          "data": {
            "text/plain": [
              "<IPython.core.display.Markdown object>"
            ],
            "text/markdown": "> ## Classificação de Oportunidades\n> \n> | Título                                                   | Tipo         | Área                       | Urgência | Link                                   |\n> | -------------------------------------------------------- | ------------ | -------------------------- | -------- | -------------------------------------- |\n> | Conferências de UX Design em 2025                       | Evento       | UX Design                  | Baixo    | Interaction Design Foundation (IxDF)   |\n> | Vagas UX Design na VagasUX                               | Vaga         | UX Design                  | Baixo    | VagasUX                                |\n> | Curso de UX Design e Agilidade na PUC Minas              | Curso        | UX Design, Agilidade       | Baixo    | PUC Minas                              |\n> | Mentoria Avançada em UX Design na Mergo                  | Mentoria     | UX Design                  | Baixo    | Mergo                                  |\n> | Programa Desenvolve                                       | Curso        | Tecnologia, IA, Dados      | Alto     | Site Desenvolve                        |\n"
          },
          "metadata": {}
        },
        {
          "output_type": "stream",
          "name": "stdout",
          "text": [
            "\n",
            "🗓️ Criando plano de ação...\n"
          ]
        },
        {
          "output_type": "display_data",
          "data": {
            "text/plain": [
              "<IPython.core.display.Markdown object>"
            ],
            "text/markdown": "### 🛠️ Plano de ação sugerido:"
          },
          "metadata": {}
        },
        {
          "output_type": "display_data",
          "data": {
            "text/plain": [
              "<IPython.core.display.Markdown object>"
            ],
            "text/markdown": "> ## Plano de Ação Estratégico (Próximos 30 Dias)\n> \n> **Semana 1: Foco na Ação Rápida e Direcionada**\n> \n> *   **Oportunidade:** Programa Desenvolve\n> *   **Ações:**\n>     *   Enviar inscrição para o Programa Desenvolve.\n>     *   Reservar tempo na agenda para o curso, caso seja aceito.\n> *   **Dica:** \"Aja agora! Uma inscrição é o primeiro passo para um futuro cheio de oportunidades.\"\n> \n> **Semana 2: Ampliando Horizontes e Explorando o Mercado**\n> \n> *   **Oportunidade:** Vagas UX Design na VagasUX\n> *   **Ações:**\n>     *   Navegar na plataforma VagasUX e identificar 5 vagas que se encaixem no seu perfil.\n>     *   Adaptar seu currículo e portfólio para destacar as habilidades mais relevantes para essas vagas.\n> *   **Dica:** \"O mercado está esperando por você. Mostre seu valor!\"\n> \n> **Semana 3: Investimento no Desenvolvimento Contínuo**\n> \n> *   **Oportunidade:** Curso de UX Design e Agilidade na PUC Minas\n> *   **Ações:**\n>     *   Analisar a ementa do curso e verificar se os tópicos abordados complementam suas habilidades.\n>     *   Se o curso for interessante, iniciar o processo de inscrição.\n> *   **Dica:** \"Aprender é crescer. Invista em você e veja seus horizontes se expandirem!\"\n> \n> **Semana 4: Networking e Preparação para o Futuro**\n> \n> *   **Oportunidade:** Conferências de UX Design em 2025 e Mentoria Avançada em UX Design na Mergo\n> *   **Ações:**\n>     *   Pesquisar mais sobre a Mentoria Avançada na Mergo e agendar uma conversa inicial, se possível.\n>     *   Começar a planejar a participação nas conferências de UX Design em 2025, definindo quais são mais relevantes para seus objetivos.\n> *   **Dica:** \"O futuro se constrói agora. Planeje, conecte-se e prepare-se para o sucesso!\"\n> \n"
          },
          "metadata": {}
        },
        {
          "output_type": "stream",
          "name": "stdout",
          "text": [
            "\n",
            "💬 Preparando mensagem motivacional...\n"
          ]
        },
        {
          "output_type": "display_data",
          "data": {
            "text/plain": [
              "<IPython.core.display.Markdown object>"
            ],
            "text/markdown": "### 💡 Coach Virtual diz:"
          },
          "metadata": {}
        },
        {
          "output_type": "display_data",
          "data": {
            "text/plain": [
              "<IPython.core.display.Markdown object>"
            ],
            "text/markdown": "> 🚀 Plano de ação UX Design nos próximos 30 dias:\n> \n> *   🎯 **Semana 1**: Inscreva-se no Programa Desenvolve. Aja rápido!\n> *   💼 **Semana 2**: Explore VagasUX e adapte seu currículo. Mostre seu valor!\n> *   📚 **Semana 3**: Invista no curso da PUC Minas. Aprender é crescer!\n> *   🌐 **Semana 4**: Mentoria Mergo e planeje as conferências de 2025. Conecte-se!\n> \n> Acredite no seu potencial e siga em frente! ✨\n"
          },
          "metadata": {}
        }
      ]
    },
    {
      "cell_type": "code",
      "source": [],
      "metadata": {
        "id": "VDclMLDQqb_k"
      },
      "execution_count": null,
      "outputs": []
    }
  ]
}