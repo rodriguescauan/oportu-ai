{
  "nbformat": 4,
  "nbformat_minor": 0,
  "metadata": {
    "colab": {
      "provenance": []
    },
    "kernelspec": {
      "name": "python3",
      "display_name": "Python 3"
    },
    "language_info": {
      "name": "python"
    }
  },
  "cells": [
    {
      "cell_type": "code",
      "source": [
        "# Instalação e setup\n",
        "%pip -q install google-genai google-adk\n",
        "\n",
        "# Imports\n",
        "import os, textwrap, warnings\n",
        "from google.colab import userdata\n",
        "from datetime import date\n",
        "from IPython.display import display, Markdown\n",
        "from google import genai\n",
        "from google.genai import types\n",
        "from google.adk.agents import Agent\n",
        "from google.adk.runners import Runner\n",
        "from google.adk.sessions import InMemorySessionService\n",
        "from google.adk.tools import google_search\n",
        "\n",
        "warnings.filterwarnings(\"ignore\")\n",
        "os.environ[\"GOOGLE_API_KEY\"] = userdata.get(\"GOOGLE_API_KEY\")\n",
        "\n",
        "client = genai.Client()\n",
        "MODEL_ID = \"gemini-2.0-flash\"\n",
        "\n",
        "# Funções auxiliares\n",
        "def call_agent(agent: Agent, message_text: str) -> str:\n",
        "    session_service = InMemorySessionService()\n",
        "    session = session_service.create_session(app_name=agent.name, user_id=\"user1\", session_id=\"session1\")\n",
        "    runner = Runner(agent=agent, app_name=agent.name, session_service=session_service)\n",
        "    content = types.Content(role=\"user\", parts=[types.Part(text=message_text)])\n",
        "    final_response = \"\"\n",
        "    for event in runner.run(user_id=\"user1\", session_id=\"session1\", new_message=content):\n",
        "        if event.is_final_response():\n",
        "            for part in event.content.parts:\n",
        "                if part.text is not None:\n",
        "                    final_response += part.text + \"\\n\"\n",
        "    return final_response\n",
        "\n",
        "def to_markdown(text):\n",
        "    text = text.replace('•', '  *')\n",
        "    return Markdown(textwrap.indent(text, '> ', predicate=lambda _: True))\n",
        "\n",
        "# Agente 1 – Buscador (filtra eventos futuros)\n",
        "def agente_buscador_oportunidades(perfil_usuario, data_de_hoje):\n",
        "    buscador = Agent(\n",
        "        name=\"agente_buscador_oportunidades\",\n",
        "        model=MODEL_ID,\n",
        "        instruction=\"\"\"\n",
        "        Você é um buscador especializado em encontrar oportunidades de crescimento pessoal e profissional na internet. Sua resposta deverá ser amigável com utilização moderada de emojis.\n",
        "\n",
        "        Utilize apenas uma frase em sua introdução. Evite excesso de texto.\n",
        "\n",
        "        Com base no perfil do usuário e na data atual, use a ferramenta google_search para buscar **eventos, cursos, bolsas, mentorias ou vagas cujas datas de realização ou inscrição sejam HOJE ou no FUTURO**.\n",
        "\n",
        "        Ignore completamente eventos já encerrados ou com inscrições vencidas. Priorize conteúdos com:\n",
        "        - Data de realização futura\n",
        "        - Prazos de inscrição ainda abertos\n",
        "        - Indicação clara de 'Inscrições abertas', 'Participe agora', 'Vem aí', 'Em breve', 'Inscreva-se até XX/XX'\n",
        "\n",
        "        Busque no máximo 5 oportunidades que sejam REAIS, ATUAIS e RELEVANTES para o perfil informado.\n",
        "        \"\"\",\n",
        "        description=\"Agente que busca oportunidades atuais e futuras\",\n",
        "        tools=[google_search]\n",
        "    )\n",
        "    entrada = f\"Perfil do usuário: {perfil_usuario}\\nHoje é: {data_de_hoje}. Busque apenas oportunidades com prazos abertos ou datas futuras.\"\n",
        "    return call_agent(buscador, entrada)\n",
        "\n",
        "# Agente 2 – Classificador (tabela organizada)\n",
        "def agente_classificador(oportunidades_encontradas):\n",
        "    classificador = Agent(\n",
        "        name=\"agente_classificador\",\n",
        "        model=MODEL_ID,\n",
        "        instruction=\"\"\"\n",
        "        Você é um analista de oportunidades.\n",
        "\n",
        "        Classifique cada item da lista abaixo e organize em uma tabela com as colunas:\n",
        "        Título | Tipo (curso, evento, vaga, etc.) | Área (ex: tecnologia, design, etc.) | Urgência (baixo, médio, alto) | Link\n",
        "\n",
        "        Urgência:\n",
        "        - Alto: prazos nos próximos 5 dias\n",
        "        - Médio: prazos entre 6 e 15 dias\n",
        "        - Baixo: mais de 15 dias ou sem prazo definido\n",
        "\n",
        "        Deixe a apresentação clara, com texto direto e sem rodeios.\n",
        "        \"\"\",\n",
        "        description=\"Agente que organiza oportunidades em tabela\"\n",
        "    )\n",
        "    return call_agent(classificador, f\"Oportunidades encontradas:\\n{oportunidades_encontradas}\")\n",
        "\n",
        "# Agente 3 – Planejador (dividido por semana)\n",
        "def agente_planejador(perfil_usuario, oportunidades_classificadas):\n",
        "    planejador = Agent(\n",
        "        name=\"agente_planejador\",\n",
        "        model=MODEL_ID,\n",
        "        instruction=\"\"\"\n",
        "        Você é um planejador estratégico.\n",
        "\n",
        "        Com base no perfil do usuário e nas oportunidades listadas, crie um plano de ação para os próximos 30 dias, dividido por semanas.\n",
        "\n",
        "        Para cada semana, indique:\n",
        "        - Quais oportunidades focar\n",
        "        - Quais ações devem ser feitas (ex: enviar inscrição, assistir evento, revisar portfólio)\n",
        "        - Uma dica breve e motivadora\n",
        "\n",
        "        Use listas organizadas por semana, com tom direto e encorajador.\n",
        "        \"\"\",\n",
        "        description=\"Agente que sugere plano de ação semanal\"\n",
        "    )\n",
        "    entrada = f\"Perfil do usuário: {perfil_usuario}\\nOportunidades classificadas:\\n{oportunidades_classificadas}\"\n",
        "    return call_agent(planejador, entrada)\n",
        "\n",
        "# Agente 4 – Coach (minimalista e elegante)\n",
        "def agente_coach(perfil_usuario, plano_acao):\n",
        "    coach = Agent(\n",
        "        name=\"agente_coach\",\n",
        "        model=MODEL_ID,\n",
        "        instruction=\"\"\"\n",
        "        Você é um coach virtual com tom elegante, direto e inspirador.\n",
        "\n",
        "        Apresente o plano de ação do usuário com leveza, encorajamento e clareza.\n",
        "        Use emojis com moderação e apenas quando fizerem sentido. Evite excesso de texto.\n",
        "\n",
        "        O objetivo é deixar o usuário animado e confiante para começar. Seja breve e impactante.\n",
        "        \"\"\",\n",
        "        description=\"Coach motivacional com estilo minimalista\"\n",
        "    )\n",
        "    entrada = f\"Perfil do usuário: {perfil_usuario}\\nPlano de ação:\\n{plano_acao}\"\n",
        "    return call_agent(coach, entrada)\n",
        "\n",
        "# Execução do sistema completo\n",
        "print(\"🚀 Bem-vindo ao OPORTU.AI – seu curador de oportunidades de crescimento!\")\n",
        "perfil_usuario = input(\"🧑‍🎓 Descreva seu perfil e interesses (ex: 'sou estudante de design e busco estágio e eventos'): \")\n",
        "data_de_hoje = date.today().strftime(\"%d/%m/%Y\")\n",
        "\n",
        "if not perfil_usuario:\n",
        "    print(\"❗ Você precisa descrever seu perfil.\")\n",
        "else:\n",
        "    print(\"\\n🔎 Buscando oportunidades...\")\n",
        "    oportunidades = agente_buscador_oportunidades(perfil_usuario, data_de_hoje)\n",
        "    display(Markdown(\"### 🎯 Oportunidades encontradas:\"))\n",
        "    display(to_markdown(oportunidades))\n",
        "\n",
        "    print(\"\\n📂 Classificando oportunidades...\")\n",
        "    oportunidades_classificadas = agente_classificador(oportunidades)\n",
        "    display(Markdown(\"### 🗂️ Oportunidades classificadas:\"))\n",
        "    display(to_markdown(oportunidades_classificadas))\n",
        "\n",
        "    print(\"\\n🗓️ Criando plano de ação...\")\n",
        "    plano = agente_planejador(perfil_usuario, oportunidades_classificadas)\n",
        "    display(Markdown(\"### 🛠️ Plano de ação sugerido:\"))\n",
        "    display(to_markdown(plano))\n",
        "\n",
        "    print(\"\\n💬 Preparando mensagem motivacional...\")\n",
        "    mensagem_final = agente_coach(perfil_usuario, plano)\n",
        "    display(Markdown(\"### 💡 Coach Virtual diz:\"))\n",
        "    display(to_markdown(mensagem_final))\n"
      ],
      "metadata": {
        "colab": {
          "base_uri": "https://localhost:8080/",
          "height": 1000
        },
        "id": "M3fAnirBpFVq",
        "outputId": "c463e8df-1330-4e76-906a-5af60a59ee53"
      },
      "execution_count": 19,
      "outputs": [
        {
          "output_type": "stream",
          "name": "stdout",
          "text": [
            "🚀 Bem-vindo ao OPORTU.AI – seu curador de oportunidades de crescimento!\n",
            "🧑‍🎓 Descreva seu perfil e interesses (ex: 'sou estudante de design e busco estágio e eventos'): redator\n",
            "\n",
            "🔎 Buscando oportunidades...\n"
          ]
        },
        {
          "output_type": "display_data",
          "data": {
            "text/plain": [
              "<IPython.core.display.Markdown object>"
            ],
            "text/markdown": "### 🎯 Oportunidades encontradas:"
          },
          "metadata": {}
        },
        {
          "output_type": "display_data",
          "data": {
            "text/plain": [
              "<IPython.core.display.Markdown object>"
            ],
            "text/markdown": "> Olá! 👋 Posso te ajudar a encontrar algumas oportunidades de crescimento na área de redação. 😊\n> \n> \n> Com certeza! Confira algumas oportunidades que encontrei para você:\n> \n> 1.  **Content Experience 2025:** O maior evento de Marketing de Conteúdo do Brasil acontecerá nos dias 13 e 14 de maio de 2025. Ideal para redatores que buscam aprimorar suas habilidades e conhecer as últimas tendências do mercado. \n> 2.  **Vagas de Redator Home Office:** Encontre diversas vagas de emprego para redator em regime de home office no Indeed e Jooble. \n> 3.  **Curso de Redação para o ENEM:** O Instituto Federal de São Paulo (IFSP) oferece um curso gratuito de redação para o ENEM com inscrições abertas até 2 de abril de 2025.  As vagas são preenchidas por ordem de inscrição.\n> 4.  **Curso O Texto Publicitário Criativo - técnicas para redação de textos no ambiente online e offline:** A ESPM oferece este curso com início em 24 de junho de 2025.\n> 5.  **Vaga de Estágio na área de Marketing - Redator - 100% Remota:** A Real Seguro Viagem está com vaga de estágio para redator, com atuação 100% remota e bolsa de R$1.300,00. \n> \n> Espero que essas opções te ajudem a alavancar sua carreira! 😊\n> \n"
          },
          "metadata": {}
        },
        {
          "output_type": "stream",
          "name": "stdout",
          "text": [
            "\n",
            "📂 Classificando oportunidades...\n"
          ]
        },
        {
          "output_type": "display_data",
          "data": {
            "text/plain": [
              "<IPython.core.display.Markdown object>"
            ],
            "text/markdown": "### 🗂️ Oportunidades classificadas:"
          },
          "metadata": {}
        },
        {
          "output_type": "display_data",
          "data": {
            "text/plain": [
              "<IPython.core.display.Markdown object>"
            ],
            "text/markdown": "> ## Análise de Oportunidades\n> \n> | Título                                                                                               | Tipo    | Área                  | Urgência | Link                                                                 |\n> | :--------------------------------------------------------------------------------------------------- | :------ | :-------------------- | :------- | :------------------------------------------------------------------- |\n> | Content Experience 2025                                                                            | Evento  | Marketing de Conteúdo | Baixo    | Não fornecido                                                        |\n> | Vagas de Redator Home Office                                                                         | Vaga    | Redação               | Baixo    | Indeed e Jooble                                                      |\n> | Curso de Redação para o ENEM                                                                         | Curso   | Redação               | Alto     | Instituto Federal de São Paulo (IFSP)                                |\n> | Curso O Texto Publicitário Criativo - técnicas para redação de textos no ambiente online e offline | Curso   | Redação/Marketing     | Baixo    | ESPM                                                                 |\n> | Vaga de Estágio na área de Marketing - Redator - 100% Remota                                       | Estágio | Marketing/Redação     | Baixo    | Real Seguro Viagem                                                   |\n> \n"
          },
          "metadata": {}
        },
        {
          "output_type": "stream",
          "name": "stdout",
          "text": [
            "\n",
            "🗓️ Criando plano de ação...\n"
          ]
        },
        {
          "output_type": "display_data",
          "data": {
            "text/plain": [
              "<IPython.core.display.Markdown object>"
            ],
            "text/markdown": "### 🛠️ Plano de ação sugerido:"
          },
          "metadata": {}
        },
        {
          "output_type": "display_data",
          "data": {
            "text/plain": [
              "<IPython.core.display.Markdown object>"
            ],
            "text/markdown": "> ## Plano de Ação Estratégico para Redator (Próximos 30 Dias)\n> \n> Aqui está um plano de ação focado para você aproveitar ao máximo as oportunidades listadas, dividido por semanas. Vamos lá!\n> \n> **Semana 1: Foco Total em Redação Educacional**\n> \n> *   **Oportunidade:** Curso de Redação para o ENEM (IFSP)\n> *   **Ações:**\n>     *   [ ] Inscreva-se no curso imediatamente (Urgência Alta!).\n>     *   [ ] Reserve um horário fixo na sua semana para se dedicar ao curso.\n>     *   [ ] Comece a explorar materiais complementares sobre redação para o ENEM.\n> *   **Dica:** \"Acredite no poder da educação para abrir portas! Este curso pode ser o diferencial que você precisa.\"\n> \n> **Semana 2: Explorando o Universo do Marketing de Conteúdo**\n> \n> *   **Oportunidades:**\n>     *   Content Experience 2025 (Evento)\n>     *   Curso O Texto Publicitário Criativo (ESPM)\n> *   **Ações:**\n>     *   [ ] Verifique a programação e custo do evento Content Experience 2025. Avalie se vale a pena participar (lembre-se da urgência baixa).\n>     *   [ ] Explore o conteúdo do curso da ESPM e veja se ele se encaixa nos seus objetivos de carreira.\n>     *   [ ] Comece a pesquisar sobre as tendências de marketing de conteúdo para 2025.\n> *   **Dica:** \"Mantenha a mente aberta para novas áreas! O marketing de conteúdo é um campo vasto e cheio de oportunidades.\"\n> \n> **Semana 3: Caça às Oportunidades de Redação**\n> \n> *   **Oportunidades:**\n>     *   Vagas de Redator Home Office (Indeed e Jooble)\n>     *   Vaga de Estágio na área de Marketing - Redator (Real Seguro Viagem)\n> *   **Ações:**\n>     *   [ ] Dedique um tempo para pesquisar e se candidatar às vagas de redator home office no Indeed e Jooble.\n>     *   [ ] Prepare um currículo e portfólio matadores, destacando suas habilidades de redação.\n>     *   [ ] Se a vaga de estágio na Real Seguro Viagem te interessar, candidate-se também!\n> *   **Dica:** \"A persistência é a chave! Não desanime com os \"nãos\", o \"sim\" está mais perto do que você imagina.\"\n> \n> **Semana 4: Refinando Habilidades e Planejando o Futuro**\n> \n> *   **Oportunidades:** Todas!\n> *   **Ações:**\n>     *   [ ] Revise todo o conteúdo do curso de redação para o ENEM.\n>     *   [ ] Avalie se os cursos/eventos de marketing de conteúdo ainda fazem sentido para você.\n>     *   [ ] Continue buscando vagas e aprimorando seu currículo e portfólio.\n>     *   [ ] Defina seus próximos objetivos de carreira como redator.\n> *   **Dica:** \"A jornada é contínua! Use esta semana para celebrar suas conquistas e traçar novos rumos.\"\n"
          },
          "metadata": {}
        },
        {
          "output_type": "stream",
          "name": "stdout",
          "text": [
            "\n",
            "💬 Preparando mensagem motivacional...\n"
          ]
        },
        {
          "output_type": "display_data",
          "data": {
            "text/plain": [
              "<IPython.core.display.Markdown object>"
            ],
            "text/markdown": "### 💡 Coach Virtual diz:"
          },
          "metadata": {}
        },
        {
          "output_type": "display_data",
          "data": {
            "text/plain": [
              "<IPython.core.display.Markdown object>"
            ],
            "text/markdown": "> Olá! ✨ Vejo que você tem um plano de ação bem estruturado para os próximos 30 dias. Incrível!\n> \n> **🚀 Semanas 1-3:** Foco em educação e busca de oportunidades.\n> **🎯 Semana 4:** Reflexão e planejamento futuro.\n> \n> Este plano está super alinhado para impulsionar sua carreira como redator. Mantenha o foco, ajuste conforme necessário e celebre cada pequena vitória. Você está no caminho certo! ✍️💼\n"
          },
          "metadata": {}
        }
      ]
    },
    {
      "cell_type": "code",
      "source": [],
      "metadata": {
        "id": "VDclMLDQqb_k"
      },
      "execution_count": null,
      "outputs": []
    }
  ]
}